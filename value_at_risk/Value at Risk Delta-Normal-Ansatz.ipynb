{
 "cells": [
  {
   "cell_type": "markdown",
   "id": "da8a54f1",
   "metadata": {},
   "source": [
    "# Value at Risk\n",
    "#### variance-covariance method"
   ]
  },
  {
   "cell_type": "code",
   "execution_count": 1,
   "id": "a70e1073",
   "metadata": {},
   "outputs": [],
   "source": [
    "import pandas as pd\n",
    "from pandas_datareader import data as pdr\n",
    "import fix_yahoo_finance as yf\n",
    "import numpy as np\n",
    "import matplotlib.pyplot as plt\n",
    "import datetime as dt"
   ]
  },
  {
   "cell_type": "code",
   "execution_count": 2,
   "id": "31766ff2",
   "metadata": {},
   "outputs": [
    {
     "data": {
      "text/html": [
       "<div>\n",
       "<style scoped>\n",
       "    .dataframe tbody tr th:only-of-type {\n",
       "        vertical-align: middle;\n",
       "    }\n",
       "\n",
       "    .dataframe tbody tr th {\n",
       "        vertical-align: top;\n",
       "    }\n",
       "\n",
       "    .dataframe thead th {\n",
       "        text-align: right;\n",
       "    }\n",
       "</style>\n",
       "<table border=\"1\" class=\"dataframe\">\n",
       "  <thead>\n",
       "    <tr style=\"text-align: right;\">\n",
       "      <th>Symbols</th>\n",
       "      <th>AAPL</th>\n",
       "      <th>FB</th>\n",
       "      <th>C</th>\n",
       "      <th>DIS</th>\n",
       "    </tr>\n",
       "    <tr>\n",
       "      <th>Date</th>\n",
       "      <th></th>\n",
       "      <th></th>\n",
       "      <th></th>\n",
       "      <th></th>\n",
       "    </tr>\n",
       "  </thead>\n",
       "  <tbody>\n",
       "    <tr>\n",
       "      <th>2021-05-10</th>\n",
       "      <td>126.849998</td>\n",
       "      <td>305.970001</td>\n",
       "      <td>75.129997</td>\n",
       "      <td>184.300003</td>\n",
       "    </tr>\n",
       "    <tr>\n",
       "      <th>2021-05-11</th>\n",
       "      <td>125.910004</td>\n",
       "      <td>306.529999</td>\n",
       "      <td>74.870003</td>\n",
       "      <td>181.669998</td>\n",
       "    </tr>\n",
       "    <tr>\n",
       "      <th>2021-05-12</th>\n",
       "      <td>122.769997</td>\n",
       "      <td>302.549988</td>\n",
       "      <td>74.230003</td>\n",
       "      <td>177.850006</td>\n",
       "    </tr>\n",
       "    <tr>\n",
       "      <th>2021-05-13</th>\n",
       "      <td>124.970001</td>\n",
       "      <td>305.260010</td>\n",
       "      <td>75.290001</td>\n",
       "      <td>178.339996</td>\n",
       "    </tr>\n",
       "    <tr>\n",
       "      <th>2021-05-14</th>\n",
       "      <td>127.449997</td>\n",
       "      <td>315.940002</td>\n",
       "      <td>76.559998</td>\n",
       "      <td>173.699997</td>\n",
       "    </tr>\n",
       "  </tbody>\n",
       "</table>\n",
       "</div>"
      ],
      "text/plain": [
       "Symbols           AAPL          FB          C         DIS\n",
       "Date                                                     \n",
       "2021-05-10  126.849998  305.970001  75.129997  184.300003\n",
       "2021-05-11  125.910004  306.529999  74.870003  181.669998\n",
       "2021-05-12  122.769997  302.549988  74.230003  177.850006\n",
       "2021-05-13  124.970001  305.260010  75.290001  178.339996\n",
       "2021-05-14  127.449997  315.940002  76.559998  173.699997"
      ]
     },
     "execution_count": 2,
     "metadata": {},
     "output_type": "execute_result"
    }
   ],
   "source": [
    "# Create our portfolio of equities\n",
    "tickers = ['AAPL','FB', 'C', 'DIS']\n",
    " \n",
    "# Set the investment weights (I arbitrarily picked for example)\n",
    "weights = np.array([.25, .3, .15, .3])\n",
    " \n",
    "# Set an initial investment level\n",
    "initial_investment = 1000000\n",
    " \n",
    "# Download closing prices\n",
    "data = pdr.get_data_yahoo(tickers, start=\"2020-01-01\", end=dt.date.today())['Close']\n",
    "data.tail()"
   ]
  },
  {
   "cell_type": "markdown",
   "id": "6bf3ebb9",
   "metadata": {},
   "source": [
    "## Percentage change"
   ]
  },
  {
   "cell_type": "code",
   "execution_count": 3,
   "id": "24e00576",
   "metadata": {},
   "outputs": [
    {
     "data": {
      "text/html": [
       "<div>\n",
       "<style scoped>\n",
       "    .dataframe tbody tr th:only-of-type {\n",
       "        vertical-align: middle;\n",
       "    }\n",
       "\n",
       "    .dataframe tbody tr th {\n",
       "        vertical-align: top;\n",
       "    }\n",
       "\n",
       "    .dataframe thead th {\n",
       "        text-align: right;\n",
       "    }\n",
       "</style>\n",
       "<table border=\"1\" class=\"dataframe\">\n",
       "  <thead>\n",
       "    <tr style=\"text-align: right;\">\n",
       "      <th>Symbols</th>\n",
       "      <th>AAPL</th>\n",
       "      <th>FB</th>\n",
       "      <th>C</th>\n",
       "      <th>DIS</th>\n",
       "    </tr>\n",
       "    <tr>\n",
       "      <th>Date</th>\n",
       "      <th></th>\n",
       "      <th></th>\n",
       "      <th></th>\n",
       "      <th></th>\n",
       "    </tr>\n",
       "  </thead>\n",
       "  <tbody>\n",
       "    <tr>\n",
       "      <th>2021-05-10</th>\n",
       "      <td>-0.025805</td>\n",
       "      <td>-0.041087</td>\n",
       "      <td>0.000666</td>\n",
       "      <td>-0.002921</td>\n",
       "    </tr>\n",
       "    <tr>\n",
       "      <th>2021-05-11</th>\n",
       "      <td>-0.007410</td>\n",
       "      <td>0.001830</td>\n",
       "      <td>-0.003461</td>\n",
       "      <td>-0.014270</td>\n",
       "    </tr>\n",
       "    <tr>\n",
       "      <th>2021-05-12</th>\n",
       "      <td>-0.024939</td>\n",
       "      <td>-0.012984</td>\n",
       "      <td>-0.008548</td>\n",
       "      <td>-0.021027</td>\n",
       "    </tr>\n",
       "    <tr>\n",
       "      <th>2021-05-13</th>\n",
       "      <td>0.017920</td>\n",
       "      <td>0.008957</td>\n",
       "      <td>0.014280</td>\n",
       "      <td>0.002755</td>\n",
       "    </tr>\n",
       "    <tr>\n",
       "      <th>2021-05-14</th>\n",
       "      <td>0.019845</td>\n",
       "      <td>0.034987</td>\n",
       "      <td>0.016868</td>\n",
       "      <td>-0.026018</td>\n",
       "    </tr>\n",
       "  </tbody>\n",
       "</table>\n",
       "</div>"
      ],
      "text/plain": [
       "Symbols         AAPL        FB         C       DIS\n",
       "Date                                              \n",
       "2021-05-10 -0.025805 -0.041087  0.000666 -0.002921\n",
       "2021-05-11 -0.007410  0.001830 -0.003461 -0.014270\n",
       "2021-05-12 -0.024939 -0.012984 -0.008548 -0.021027\n",
       "2021-05-13  0.017920  0.008957  0.014280  0.002755\n",
       "2021-05-14  0.019845  0.034987  0.016868 -0.026018"
      ]
     },
     "execution_count": 3,
     "metadata": {},
     "output_type": "execute_result"
    }
   ],
   "source": [
    "#From the closing prices, calculate periodic returns\n",
    "returns = data.pct_change()\n",
    "\n",
    "returns.tail()"
   ]
  },
  {
   "cell_type": "markdown",
   "id": "f815048d",
   "metadata": {},
   "source": [
    "## Create var cov matrix"
   ]
  },
  {
   "cell_type": "code",
   "execution_count": 4,
   "id": "cea9f993",
   "metadata": {},
   "outputs": [
    {
     "data": {
      "text/html": [
       "<div>\n",
       "<style scoped>\n",
       "    .dataframe tbody tr th:only-of-type {\n",
       "        vertical-align: middle;\n",
       "    }\n",
       "\n",
       "    .dataframe tbody tr th {\n",
       "        vertical-align: top;\n",
       "    }\n",
       "\n",
       "    .dataframe thead th {\n",
       "        text-align: right;\n",
       "    }\n",
       "</style>\n",
       "<table border=\"1\" class=\"dataframe\">\n",
       "  <thead>\n",
       "    <tr style=\"text-align: right;\">\n",
       "      <th>Symbols</th>\n",
       "      <th>AAPL</th>\n",
       "      <th>FB</th>\n",
       "      <th>C</th>\n",
       "      <th>DIS</th>\n",
       "    </tr>\n",
       "    <tr>\n",
       "      <th>Symbols</th>\n",
       "      <th></th>\n",
       "      <th></th>\n",
       "      <th></th>\n",
       "      <th></th>\n",
       "    </tr>\n",
       "  </thead>\n",
       "  <tbody>\n",
       "    <tr>\n",
       "      <th>AAPL</th>\n",
       "      <td>0.000734</td>\n",
       "      <td>0.000545</td>\n",
       "      <td>0.000495</td>\n",
       "      <td>0.000350</td>\n",
       "    </tr>\n",
       "    <tr>\n",
       "      <th>FB</th>\n",
       "      <td>0.000545</td>\n",
       "      <td>0.000728</td>\n",
       "      <td>0.000440</td>\n",
       "      <td>0.000334</td>\n",
       "    </tr>\n",
       "    <tr>\n",
       "      <th>C</th>\n",
       "      <td>0.000495</td>\n",
       "      <td>0.000440</td>\n",
       "      <td>0.001428</td>\n",
       "      <td>0.000744</td>\n",
       "    </tr>\n",
       "    <tr>\n",
       "      <th>DIS</th>\n",
       "      <td>0.000350</td>\n",
       "      <td>0.000334</td>\n",
       "      <td>0.000744</td>\n",
       "      <td>0.000782</td>\n",
       "    </tr>\n",
       "  </tbody>\n",
       "</table>\n",
       "</div>"
      ],
      "text/plain": [
       "Symbols      AAPL        FB         C       DIS\n",
       "Symbols                                        \n",
       "AAPL     0.000734  0.000545  0.000495  0.000350\n",
       "FB       0.000545  0.000728  0.000440  0.000334\n",
       "C        0.000495  0.000440  0.001428  0.000744\n",
       "DIS      0.000350  0.000334  0.000744  0.000782"
      ]
     },
     "execution_count": 4,
     "metadata": {},
     "output_type": "execute_result"
    }
   ],
   "source": [
    "cov_matrix = returns.cov()\n",
    "cov_matrix"
   ]
  },
  {
   "cell_type": "markdown",
   "id": "631d6280",
   "metadata": {},
   "source": [
    "## Calculate the portfolio mean and standard deviation"
   ]
  },
  {
   "cell_type": "markdown",
   "id": "996a6c67",
   "metadata": {},
   "source": [
    "### Calculate mean returns for each stock"
   ]
  },
  {
   "cell_type": "code",
   "execution_count": 5,
   "id": "16adefe8",
   "metadata": {},
   "outputs": [
    {
     "data": {
      "text/plain": [
       "Symbols\n",
       "AAPL    0.001905\n",
       "FB      0.001555\n",
       "C       0.000546\n",
       "DIS     0.000847\n",
       "dtype: float64"
      ]
     },
     "execution_count": 5,
     "metadata": {},
     "output_type": "execute_result"
    }
   ],
   "source": [
    "avg_rets = returns.mean()\n",
    "avg_rets"
   ]
  },
  {
   "cell_type": "markdown",
   "id": "1600ab8a",
   "metadata": {},
   "source": [
    "### Calculate mean returns for portfolio overall,"
   ]
  },
  {
   "cell_type": "code",
   "execution_count": 6,
   "id": "04cd3cfa",
   "metadata": {},
   "outputs": [
    {
     "data": {
      "text/plain": [
       "0.0012789706079641336"
      ]
     },
     "execution_count": 6,
     "metadata": {},
     "output_type": "execute_result"
    }
   ],
   "source": [
    "# using dot product to \n",
    "# normalize individual means against investment weights\n",
    " # https://en.wikipedia.org/wiki/Dot_product#:~:targetText=In%20mathematics%2C%20the%20dot%20product,and%20returns%20a%20single%20number.\n",
    "port_mean = avg_rets.dot(weights)\n",
    "port_mean"
   ]
  },
  {
   "cell_type": "markdown",
   "id": "191a5fc9",
   "metadata": {},
   "source": [
    "### Calculate portfolio standard deviation"
   ]
  },
  {
   "cell_type": "code",
   "execution_count": 7,
   "id": "170a437c",
   "metadata": {},
   "outputs": [
    {
     "data": {
      "text/plain": [
       "0.023495930616159025"
      ]
     },
     "execution_count": 7,
     "metadata": {},
     "output_type": "execute_result"
    }
   ],
   "source": [
    "port_stdev = np.sqrt(weights.T.dot(cov_matrix).dot(weights))\n",
    "port_stdev"
   ]
  },
  {
   "cell_type": "markdown",
   "id": "a1bfba90",
   "metadata": {},
   "source": [
    "### Calculate mean of investment"
   ]
  },
  {
   "cell_type": "code",
   "execution_count": 8,
   "id": "47fd5d0d",
   "metadata": {},
   "outputs": [
    {
     "data": {
      "text/plain": [
       "1001278.9706079641"
      ]
     },
     "execution_count": 8,
     "metadata": {},
     "output_type": "execute_result"
    }
   ],
   "source": [
    "mean_investment = (1+port_mean) * initial_investment\n",
    "mean_investment"
   ]
  },
  {
   "cell_type": "markdown",
   "id": "fd612dd9",
   "metadata": {},
   "source": [
    "### Calculate standard deviation of investmnet"
   ]
  },
  {
   "cell_type": "code",
   "execution_count": 9,
   "id": "a539a8b2",
   "metadata": {},
   "outputs": [
    {
     "data": {
      "text/plain": [
       "23495.930616159025"
      ]
     },
     "execution_count": 9,
     "metadata": {},
     "output_type": "execute_result"
    }
   ],
   "source": [
    "stdev_investment = initial_investment * port_stdev\n",
    "stdev_investment"
   ]
  },
  {
   "cell_type": "markdown",
   "id": "8e4cf7f8",
   "metadata": {},
   "source": [
    "## Calculate the inverse of the normal cumulative distribution (PPF) with a specified confidence interval, standard deviation, and mean"
   ]
  },
  {
   "cell_type": "code",
   "execution_count": 10,
   "id": "ef5b3c31",
   "metadata": {},
   "outputs": [
    {
     "data": {
      "text/plain": [
       "962631.6039153747"
      ]
     },
     "execution_count": 10,
     "metadata": {},
     "output_type": "execute_result"
    }
   ],
   "source": [
    "# Select our confidence interval (I'll choose 95% here)\n",
    "conf_level1 = 0.05\n",
    "\n",
    "# Using SciPy ppf method to generate values for the\n",
    "# inverse cumulative distribution function to a normal distribution\n",
    "# Plugging in the mean, standard deviation of our portfolio\n",
    "# as calculated above\n",
    "# https://docs.scipy.org/doc/scipy/reference/generated/scipy.stats.norm.html\n",
    "from scipy.stats import norm\n",
    "cutoff1 = norm.ppf(conf_level1, mean_investment, stdev_investment)\n",
    "cutoff1"
   ]
  },
  {
   "cell_type": "markdown",
   "id": "1eb0106b",
   "metadata": {},
   "source": [
    "## Estimate the value at risk (VaR) for the portfolio by subtracting the initial investment from the calculation in step 4"
   ]
  },
  {
   "cell_type": "code",
   "execution_count": 11,
   "id": "c6c664bf",
   "metadata": {},
   "outputs": [
    {
     "data": {
      "text/plain": [
       "37368.396084625274"
      ]
     },
     "execution_count": 11,
     "metadata": {},
     "output_type": "execute_result"
    }
   ],
   "source": [
    "var_1d1 = initial_investment - cutoff1\n",
    "var_1d1"
   ]
  },
  {
   "cell_type": "markdown",
   "id": "d5d7eca1",
   "metadata": {},
   "source": [
    "## Value at risk over n-day time period"
   ]
  },
  {
   "cell_type": "code",
   "execution_count": 12,
   "id": "48cb575c",
   "metadata": {},
   "outputs": [
    {
     "name": "stdout",
     "output_type": "stream",
     "text": [
      "1 day VaR @ 95% confidence: 37368.4\n",
      "2 day VaR @ 95% confidence: 52846.89\n",
      "3 day VaR @ 95% confidence: 64723.96\n",
      "4 day VaR @ 95% confidence: 74736.79\n",
      "5 day VaR @ 95% confidence: 83558.27\n",
      "6 day VaR @ 95% confidence: 91533.5\n",
      "7 day VaR @ 95% confidence: 98867.48\n",
      "8 day VaR @ 95% confidence: 105693.79\n",
      "9 day VaR @ 95% confidence: 112105.19\n",
      "10 day VaR @ 95% confidence: 118169.24\n",
      "11 day VaR @ 95% confidence: 123936.95\n",
      "12 day VaR @ 95% confidence: 129447.92\n",
      "13 day VaR @ 95% confidence: 134733.67\n",
      "14 day VaR @ 95% confidence: 139819.74\n",
      "15 day VaR @ 95% confidence: 144727.18\n"
     ]
    },
    {
     "data": {
      "text/plain": [
       "[<matplotlib.lines.Line2D at 0x129de7640>]"
      ]
     },
     "execution_count": 12,
     "metadata": {},
     "output_type": "execute_result"
    },
    {
     "data": {
      "image/png": "[encoded data removed]",
      "text/plain": [
       "<Figure size 432x288 with 1 Axes>"
      ]
     },
     "metadata": {
      "needs_background": "light"
     },
     "output_type": "display_data"
    }
   ],
   "source": [
    "# Calculate n Day VaR\n",
    "var_array = []\n",
    "num_days = int(15)\n",
    "for x in range(1, num_days+1):    \n",
    "    var_array.append(np.round(var_1d1 * np.sqrt(x),2))\n",
    "    print(str(x) + \" day VaR @ 95% confidence: \" + str(np.round(var_1d1 * np.sqrt(x),2)))\n",
    "\n",
    "# Build plot\n",
    "plt.xlabel(\"Day #\")\n",
    "plt.ylabel(\"Max portfolio loss (USD)\")\n",
    "plt.title(\"Max portfolio loss (VaR) over 15-day period\")\n",
    "plt.plot(var_array, \"r\")\n"
   ]
  },
  {
   "cell_type": "markdown",
   "id": "94cce6d1",
   "metadata": {},
   "source": []
  },
  {
   "cell_type": "code",
   "execution_count": null,
   "id": "f59656da",
   "metadata": {},
   "outputs": [],
   "source": []
  }
 ],
 "metadata": {
  "kernelspec": {
   "display_name": "Python 3",
   "language": "python",
   "name": "python3"
  },
  "language_info": {
   "codemirror_mode": {
    "name": "ipython",
    "version": 3
   },
   "file_extension": ".py",
   "mimetype": "text/x-python",
   "name": "python",
   "nbconvert_exporter": "python",
   "pygments_lexer": "ipython3",
   "version": "3.9.4"
  }
 },
 "nbformat": 4,
 "nbformat_minor": 5
}
