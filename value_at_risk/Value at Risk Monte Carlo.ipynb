{
 "cells": [
  {
   "cell_type": "markdown",
   "id": "e4d865fc",
   "metadata": {},
   "source": [
    "# Value at Risk"
   ]
  },
  {
   "cell_type": "markdown",
   "id": "1050fa3f",
   "metadata": {},
   "source": [
    "## Monte carlo"
   ]
  },
  {
   "cell_type": "code",
   "execution_count": 1,
   "id": "84c894a3",
   "metadata": {},
   "outputs": [],
   "source": [
    "import pandas as pd\n",
    "import pandas_datareader.data as web\n",
    "import numpy as np\n",
    "import matplotlib.pylab as plt\n",
    "import csv\n",
    "import numpy.random as npr\n",
    "import scipy.stats as scs\n",
    "from scipy.stats import norm\n",
    "\n",
    "import numpy.random as npr"
   ]
  },
  {
   "cell_type": "code",
   "execution_count": 2,
   "id": "f3ceb8b1",
   "metadata": {},
   "outputs": [],
   "source": [
    "\n",
    "S0 = 100 \n",
    "r=0.01 # in Hilpisch's book, he's got r=0.05\n",
    "sigma = 0.25\n",
    "T=30/365.\n",
    "I = 10000 \n",
    "ST=S0*np.exp((r-0.5*sigma**2)*T + sigma * np.sqrt(T) * npr.standard_normal(I))"
   ]
  },
  {
   "cell_type": "code",
   "execution_count": 3,
   "id": "bef1b521",
   "metadata": {},
   "outputs": [],
   "source": [
    "R_gbm = np.sort(ST - S0)"
   ]
  },
  {
   "cell_type": "code",
   "execution_count": 4,
   "id": "d58a9171",
   "metadata": {},
   "outputs": [
    {
     "data": {
      "image/png": "[encoded data removed]",
      "text/plain": [
       "<Figure size 432x288 with 1 Axes>"
      ]
     },
     "metadata": {
      "needs_background": "light"
     },
     "output_type": "display_data"
    }
   ],
   "source": [
    "\n",
    "plt.hist(R_gbm, bins=50)\n",
    "plt.xlabel('absolute return')\n",
    "plt.ylabel('frequency')\n",
    "plt.grid(True)"
   ]
  },
  {
   "cell_type": "code",
   "execution_count": 5,
   "id": "6c2d706f",
   "metadata": {},
   "outputs": [
    {
     "name": "stdout",
     "output_type": "stream",
     "text": [
      "Confidence Level Value-at-Risk\n",
      "99.99              21.758230754690352\n",
      "99.9              19.772542955554023\n",
      "99.0              15.822201897752093\n",
      "97.5              13.361082546248399\n",
      "95.0              11.349767984503744\n",
      "90.0              8.928444678752244\n"
     ]
    }
   ],
   "source": [
    "percs = [0.01, 0.1, 1., 2.5, 5.0, 10.0]\n",
    "var = scs.scoreatpercentile(R_gbm, percs)\n",
    "print(\"{} {}\".format('Confidence Level', 'Value-at-Risk'))\n",
    "for pair in zip(percs, var):\n",
    "    print(\"{}              {}\".format(100 - pair[0], -pair[1]))\n"
   ]
  }
 ],
 "metadata": {
  "kernelspec": {
   "display_name": "Python 3",
   "language": "python",
   "name": "python3"
  },
  "language_info": {
   "codemirror_mode": {
    "name": "ipython",
    "version": 3
   },
   "file_extension": ".py",
   "mimetype": "text/x-python",
   "name": "python",
   "nbconvert_exporter": "python",
   "pygments_lexer": "ipython3",
   "version": "3.9.4"
  }
 },
 "nbformat": 4,
 "nbformat_minor": 5
}
