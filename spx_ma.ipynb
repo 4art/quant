{
 "cells": [
  {
   "cell_type": "markdown",
   "id": "04b42372",
   "metadata": {},
   "source": [
    "# S&P symbols"
   ]
  },
  {
   "cell_type": "code",
   "execution_count": 57,
   "metadata": {},
   "outputs": [
    {
     "output_type": "stream",
     "name": "stdout",
     "text": [
      "Requirement already satisfied: pandas_datareader in /usr/local/lib/python3.8/site-packages (0.9.0)\n",
      "Requirement already satisfied: yfinance in /usr/local/lib/python3.8/site-packages (0.1.63)\n",
      "Requirement already satisfied: matplotlib in /usr/local/lib/python3.8/site-packages (3.4.2)\n",
      "Requirement already satisfied: requests>=2.19.0 in /usr/local/lib/python3.8/site-packages (from pandas_datareader) (2.24.0)\n",
      "Requirement already satisfied: lxml in /usr/local/lib/python3.8/site-packages (from pandas_datareader) (4.6.3)\n",
      "Requirement already satisfied: pandas>=0.23 in /usr/local/lib/python3.8/site-packages (from pandas_datareader) (1.1.4)\n",
      "Requirement already satisfied: numpy>=1.15 in /usr/local/lib/python3.8/site-packages (from yfinance) (1.19.3)\n",
      "Requirement already satisfied: multitasking>=0.0.7 in /usr/local/lib/python3.8/site-packages (from yfinance) (0.0.9)\n",
      "Requirement already satisfied: python-dateutil>=2.7 in /usr/local/lib/python3.8/site-packages (from matplotlib) (2.8.1)\n",
      "Requirement already satisfied: kiwisolver>=1.0.1 in /usr/local/lib/python3.8/site-packages (from matplotlib) (1.3.1)\n",
      "Requirement already satisfied: pillow>=6.2.0 in /usr/local/lib/python3.8/site-packages (from matplotlib) (8.3.1)\n",
      "Requirement already satisfied: pyparsing>=2.2.1 in /usr/local/lib/python3.8/site-packages (from matplotlib) (2.4.7)\n",
      "Requirement already satisfied: cycler>=0.10 in /usr/local/lib/python3.8/site-packages (from matplotlib) (0.10.0)\n",
      "Requirement already satisfied: idna<3,>=2.5 in /usr/local/lib/python3.8/site-packages (from requests>=2.19.0->pandas_datareader) (2.10)\n",
      "Requirement already satisfied: certifi>=2017.4.17 in /usr/local/lib/python3.8/site-packages (from requests>=2.19.0->pandas_datareader) (2020.6.20)\n",
      "Requirement already satisfied: chardet<4,>=3.0.2 in /usr/local/lib/python3.8/site-packages (from requests>=2.19.0->pandas_datareader) (3.0.4)\n",
      "Requirement already satisfied: urllib3!=1.25.0,!=1.25.1,<1.26,>=1.21.1 in /usr/local/lib/python3.8/site-packages (from requests>=2.19.0->pandas_datareader) (1.25.11)\n",
      "Requirement already satisfied: pytz>=2017.2 in /usr/local/lib/python3.8/site-packages (from pandas>=0.23->pandas_datareader) (2020.4)\n",
      "Requirement already satisfied: six>=1.5 in /Users/artemfirsov/Library/Python/3.8/lib/python/site-packages (from python-dateutil>=2.7->matplotlib) (1.15.0)\n",
      "\u001b[33mWARNING: You are using pip version 20.2.3; however, version 21.1.3 is available.\n",
      "You should consider upgrading via the '/usr/local/opt/python@3.8/bin/python3.8 -m pip install --upgrade pip' command.\u001b[0m\n"
     ]
    }
   ],
   "source": [
    "import sys\n",
    "!{sys.executable} -m pip install pandas_datareader yfinance matplotlib"
   ]
  },
  {
   "cell_type": "code",
   "execution_count": 58,
   "id": "fce5b6d1",
   "metadata": {},
   "outputs": [
    {
     "output_type": "execute_result",
     "data": {
      "text/plain": [
       "    Symbol             Security SEC filings             GICS Sector  \\\n",
       "0      MMM                   3M     reports             Industrials   \n",
       "1      ABT  Abbott Laboratories     reports             Health Care   \n",
       "2     ABBV               AbbVie     reports             Health Care   \n",
       "3     ABMD              Abiomed     reports             Health Care   \n",
       "4      ACN            Accenture     reports  Information Technology   \n",
       "..     ...                  ...         ...                     ...   \n",
       "500    YUM          Yum! Brands     reports  Consumer Discretionary   \n",
       "501   ZBRA   Zebra Technologies     reports  Information Technology   \n",
       "502    ZBH        Zimmer Biomet     reports             Health Care   \n",
       "503   ZION        Zions Bancorp     reports              Financials   \n",
       "504    ZTS               Zoetis     reports             Health Care   \n",
       "\n",
       "                      GICS Sub-Industry    Headquarters Location  \\\n",
       "0              Industrial Conglomerates    Saint Paul, Minnesota   \n",
       "1                 Health Care Equipment  North Chicago, Illinois   \n",
       "2                       Pharmaceuticals  North Chicago, Illinois   \n",
       "3                 Health Care Equipment   Danvers, Massachusetts   \n",
       "4        IT Consulting & Other Services          Dublin, Ireland   \n",
       "..                                  ...                      ...   \n",
       "500                         Restaurants     Louisville, Kentucky   \n",
       "501  Electronic Equipment & Instruments   Lincolnshire, Illinois   \n",
       "502               Health Care Equipment          Warsaw, Indiana   \n",
       "503                      Regional Banks     Salt Lake City, Utah   \n",
       "504                     Pharmaceuticals   Parsippany, New Jersey   \n",
       "\n",
       "    Date first added      CIK      Founded  \n",
       "0         1976-08-09    66740         1902  \n",
       "1         1964-03-31     1800         1888  \n",
       "2         2012-12-31  1551152  2013 (1888)  \n",
       "3         2018-05-31   815094         1981  \n",
       "4         2011-07-06  1467373         1989  \n",
       "..               ...      ...          ...  \n",
       "500       1997-10-06  1041061         1997  \n",
       "501       2019-12-23   877212         1969  \n",
       "502       2001-08-07  1136869         1927  \n",
       "503       2001-06-22   109380         1873  \n",
       "504       2013-06-21  1555280         1952  \n",
       "\n",
       "[505 rows x 9 columns]"
      ],
      "text/html": "<div>\n<style scoped>\n    .dataframe tbody tr th:only-of-type {\n        vertical-align: middle;\n    }\n\n    .dataframe tbody tr th {\n        vertical-align: top;\n    }\n\n    .dataframe thead th {\n        text-align: right;\n    }\n</style>\n<table border=\"1\" class=\"dataframe\">\n  <thead>\n    <tr style=\"text-align: right;\">\n      <th></th>\n      <th>Symbol</th>\n      <th>Security</th>\n      <th>SEC filings</th>\n      <th>GICS Sector</th>\n      <th>GICS Sub-Industry</th>\n      <th>Headquarters Location</th>\n      <th>Date first added</th>\n      <th>CIK</th>\n      <th>Founded</th>\n    </tr>\n  </thead>\n  <tbody>\n    <tr>\n      <th>0</th>\n      <td>MMM</td>\n      <td>3M</td>\n      <td>reports</td>\n      <td>Industrials</td>\n      <td>Industrial Conglomerates</td>\n      <td>Saint Paul, Minnesota</td>\n      <td>1976-08-09</td>\n      <td>66740</td>\n      <td>1902</td>\n    </tr>\n    <tr>\n      <th>1</th>\n      <td>ABT</td>\n      <td>Abbott Laboratories</td>\n      <td>reports</td>\n      <td>Health Care</td>\n      <td>Health Care Equipment</td>\n      <td>North Chicago, Illinois</td>\n      <td>1964-03-31</td>\n      <td>1800</td>\n      <td>1888</td>\n    </tr>\n    <tr>\n      <th>2</th>\n      <td>ABBV</td>\n      <td>AbbVie</td>\n      <td>reports</td>\n      <td>Health Care</td>\n      <td>Pharmaceuticals</td>\n      <td>North Chicago, Illinois</td>\n      <td>2012-12-31</td>\n      <td>1551152</td>\n      <td>2013 (1888)</td>\n    </tr>\n    <tr>\n      <th>3</th>\n      <td>ABMD</td>\n      <td>Abiomed</td>\n      <td>reports</td>\n      <td>Health Care</td>\n      <td>Health Care Equipment</td>\n      <td>Danvers, Massachusetts</td>\n      <td>2018-05-31</td>\n      <td>815094</td>\n      <td>1981</td>\n    </tr>\n    <tr>\n      <th>4</th>\n      <td>ACN</td>\n      <td>Accenture</td>\n      <td>reports</td>\n      <td>Information Technology</td>\n      <td>IT Consulting &amp; Other Services</td>\n      <td>Dublin, Ireland</td>\n      <td>2011-07-06</td>\n      <td>1467373</td>\n      <td>1989</td>\n    </tr>\n    <tr>\n      <th>...</th>\n      <td>...</td>\n      <td>...</td>\n      <td>...</td>\n      <td>...</td>\n      <td>...</td>\n      <td>...</td>\n      <td>...</td>\n      <td>...</td>\n      <td>...</td>\n    </tr>\n    <tr>\n      <th>500</th>\n      <td>YUM</td>\n      <td>Yum! Brands</td>\n      <td>reports</td>\n      <td>Consumer Discretionary</td>\n      <td>Restaurants</td>\n      <td>Louisville, Kentucky</td>\n      <td>1997-10-06</td>\n      <td>1041061</td>\n      <td>1997</td>\n    </tr>\n    <tr>\n      <th>501</th>\n      <td>ZBRA</td>\n      <td>Zebra Technologies</td>\n      <td>reports</td>\n      <td>Information Technology</td>\n      <td>Electronic Equipment &amp; Instruments</td>\n      <td>Lincolnshire, Illinois</td>\n      <td>2019-12-23</td>\n      <td>877212</td>\n      <td>1969</td>\n    </tr>\n    <tr>\n      <th>502</th>\n      <td>ZBH</td>\n      <td>Zimmer Biomet</td>\n      <td>reports</td>\n      <td>Health Care</td>\n      <td>Health Care Equipment</td>\n      <td>Warsaw, Indiana</td>\n      <td>2001-08-07</td>\n      <td>1136869</td>\n      <td>1927</td>\n    </tr>\n    <tr>\n      <th>503</th>\n      <td>ZION</td>\n      <td>Zions Bancorp</td>\n      <td>reports</td>\n      <td>Financials</td>\n      <td>Regional Banks</td>\n      <td>Salt Lake City, Utah</td>\n      <td>2001-06-22</td>\n      <td>109380</td>\n      <td>1873</td>\n    </tr>\n    <tr>\n      <th>504</th>\n      <td>ZTS</td>\n      <td>Zoetis</td>\n      <td>reports</td>\n      <td>Health Care</td>\n      <td>Pharmaceuticals</td>\n      <td>Parsippany, New Jersey</td>\n      <td>2013-06-21</td>\n      <td>1555280</td>\n      <td>1952</td>\n    </tr>\n  </tbody>\n</table>\n<p>505 rows × 9 columns</p>\n</div>"
     },
     "metadata": {},
     "execution_count": 58
    }
   ],
   "source": [
    "import pandas as pd\n",
    "from pandas import DataFrame\n",
    "import json\n",
    "from pandas_datareader import data as pdr\n",
    "import yfinance as yf\n",
    "import numpy as np\n",
    "import matplotlib.pyplot as plt\n",
    "import datetime as dt\n",
    "\n",
    "yf.pdr_override()\n",
    "# no need for requests or BeautifulSoup use read_html\n",
    "df = pd.read_html('https://en.wikipedia.org/wiki/List_of_S%26P_500_companies')[0]\n",
    "# convert symbol column to list\n",
    "def get_company_name(s):\n",
    "    infos = df.loc[df['Symbol'] == s] \n",
    "    tickers = df['Symbol'].values.tolist()\n",
    "    return infos.iloc[0][\"Security\"]\n",
    "\n",
    "df"
   ]
  },
  {
   "cell_type": "code",
   "execution_count": 59,
   "id": "2d151aef",
   "metadata": {},
   "outputs": [
    {
     "output_type": "stream",
     "name": "stdout",
     "text": [
      "[*********************100%***********************]  505 of 505 completed\n",
      "\n",
      "2 Failed downloads:\n",
      "- BRK.B: No data found, symbol may be delisted\n",
      "- BF.B: No data found for this date range, symbol may be delisted\n"
     ]
    },
    {
     "output_type": "execute_result",
     "data": {
      "text/plain": [
       "                     A        AAL         AAP        AAPL        ABBV  \\\n",
       "Date                                                                    \n",
       "2021-07-02  148.820007  21.480000  211.050003  139.960007  115.169998   \n",
       "2021-07-06  148.979996  21.010000  208.699997  142.020004  115.730003   \n",
       "2021-07-07  149.490005  20.309999  209.440002  144.570007  116.750000   \n",
       "2021-07-08  148.830002  20.350000  207.509995  143.240005  116.349998   \n",
       "2021-07-09  150.029999  20.889999  213.470001  145.110001  116.580002   \n",
       "\n",
       "                   ABC        ABMD         ABT         ACN        ADBE  ...  \\\n",
       "Date                                                                    ...   \n",
       "2021-07-02  116.620003  317.019989  118.040001  304.839996  593.070007  ...   \n",
       "2021-07-06  115.419998  326.709991  118.820000  305.399994  596.900024  ...   \n",
       "2021-07-07  115.040001  334.529999  119.870003  309.609985  605.770020  ...   \n",
       "2021-07-08  114.440002  325.040009  119.260002  309.149994  605.950012  ...   \n",
       "2021-07-09  115.129997  324.769989  119.739998  312.619995  604.500000  ...   \n",
       "\n",
       "                  XEL        XLNX        XOM       XRAY         XYL  \\\n",
       "Date                                                                  \n",
       "2021-07-02  66.820000  144.559998  63.169998  63.889999  120.889999   \n",
       "2021-07-06  67.070000  144.169998  61.369999  63.090000  120.459999   \n",
       "2021-07-07  67.690002  137.440002  60.410000  63.630001  120.669998   \n",
       "2021-07-08  67.500000  133.770004  60.139999  61.910000  119.190002   \n",
       "2021-07-09  67.669998  135.589996  61.230000  62.419998  121.050003   \n",
       "\n",
       "                   YUM         ZBH        ZBRA       ZION         ZTS  \n",
       "Date                                                                   \n",
       "2021-07-02  116.949997  163.520004  539.940002  53.259998  192.699997  \n",
       "2021-07-06  116.250000  162.779999  544.349976  51.720001  194.020004  \n",
       "2021-07-07  117.820000  161.100006  546.650024  51.310001  197.399994  \n",
       "2021-07-08  117.320000  159.259995  539.840027  49.840000  196.960007  \n",
       "2021-07-09  118.580002  159.309998  547.729980  52.290001  197.500000  \n",
       "\n",
       "[5 rows x 505 columns]"
      ],
      "text/html": "<div>\n<style scoped>\n    .dataframe tbody tr th:only-of-type {\n        vertical-align: middle;\n    }\n\n    .dataframe tbody tr th {\n        vertical-align: top;\n    }\n\n    .dataframe thead th {\n        text-align: right;\n    }\n</style>\n<table border=\"1\" class=\"dataframe\">\n  <thead>\n    <tr style=\"text-align: right;\">\n      <th></th>\n      <th>A</th>\n      <th>AAL</th>\n      <th>AAP</th>\n      <th>AAPL</th>\n      <th>ABBV</th>\n      <th>ABC</th>\n      <th>ABMD</th>\n      <th>ABT</th>\n      <th>ACN</th>\n      <th>ADBE</th>\n      <th>...</th>\n      <th>XEL</th>\n      <th>XLNX</th>\n      <th>XOM</th>\n      <th>XRAY</th>\n      <th>XYL</th>\n      <th>YUM</th>\n      <th>ZBH</th>\n      <th>ZBRA</th>\n      <th>ZION</th>\n      <th>ZTS</th>\n    </tr>\n    <tr>\n      <th>Date</th>\n      <th></th>\n      <th></th>\n      <th></th>\n      <th></th>\n      <th></th>\n      <th></th>\n      <th></th>\n      <th></th>\n      <th></th>\n      <th></th>\n      <th></th>\n      <th></th>\n      <th></th>\n      <th></th>\n      <th></th>\n      <th></th>\n      <th></th>\n      <th></th>\n      <th></th>\n      <th></th>\n      <th></th>\n    </tr>\n  </thead>\n  <tbody>\n    <tr>\n      <th>2021-07-02</th>\n      <td>148.820007</td>\n      <td>21.480000</td>\n      <td>211.050003</td>\n      <td>139.960007</td>\n      <td>115.169998</td>\n      <td>116.620003</td>\n      <td>317.019989</td>\n      <td>118.040001</td>\n      <td>304.839996</td>\n      <td>593.070007</td>\n      <td>...</td>\n      <td>66.820000</td>\n      <td>144.559998</td>\n      <td>63.169998</td>\n      <td>63.889999</td>\n      <td>120.889999</td>\n      <td>116.949997</td>\n      <td>163.520004</td>\n      <td>539.940002</td>\n      <td>53.259998</td>\n      <td>192.699997</td>\n    </tr>\n    <tr>\n      <th>2021-07-06</th>\n      <td>148.979996</td>\n      <td>21.010000</td>\n      <td>208.699997</td>\n      <td>142.020004</td>\n      <td>115.730003</td>\n      <td>115.419998</td>\n      <td>326.709991</td>\n      <td>118.820000</td>\n      <td>305.399994</td>\n      <td>596.900024</td>\n      <td>...</td>\n      <td>67.070000</td>\n      <td>144.169998</td>\n      <td>61.369999</td>\n      <td>63.090000</td>\n      <td>120.459999</td>\n      <td>116.250000</td>\n      <td>162.779999</td>\n      <td>544.349976</td>\n      <td>51.720001</td>\n      <td>194.020004</td>\n    </tr>\n    <tr>\n      <th>2021-07-07</th>\n      <td>149.490005</td>\n      <td>20.309999</td>\n      <td>209.440002</td>\n      <td>144.570007</td>\n      <td>116.750000</td>\n      <td>115.040001</td>\n      <td>334.529999</td>\n      <td>119.870003</td>\n      <td>309.609985</td>\n      <td>605.770020</td>\n      <td>...</td>\n      <td>67.690002</td>\n      <td>137.440002</td>\n      <td>60.410000</td>\n      <td>63.630001</td>\n      <td>120.669998</td>\n      <td>117.820000</td>\n      <td>161.100006</td>\n      <td>546.650024</td>\n      <td>51.310001</td>\n      <td>197.399994</td>\n    </tr>\n    <tr>\n      <th>2021-07-08</th>\n      <td>148.830002</td>\n      <td>20.350000</td>\n      <td>207.509995</td>\n      <td>143.240005</td>\n      <td>116.349998</td>\n      <td>114.440002</td>\n      <td>325.040009</td>\n      <td>119.260002</td>\n      <td>309.149994</td>\n      <td>605.950012</td>\n      <td>...</td>\n      <td>67.500000</td>\n      <td>133.770004</td>\n      <td>60.139999</td>\n      <td>61.910000</td>\n      <td>119.190002</td>\n      <td>117.320000</td>\n      <td>159.259995</td>\n      <td>539.840027</td>\n      <td>49.840000</td>\n      <td>196.960007</td>\n    </tr>\n    <tr>\n      <th>2021-07-09</th>\n      <td>150.029999</td>\n      <td>20.889999</td>\n      <td>213.470001</td>\n      <td>145.110001</td>\n      <td>116.580002</td>\n      <td>115.129997</td>\n      <td>324.769989</td>\n      <td>119.739998</td>\n      <td>312.619995</td>\n      <td>604.500000</td>\n      <td>...</td>\n      <td>67.669998</td>\n      <td>135.589996</td>\n      <td>61.230000</td>\n      <td>62.419998</td>\n      <td>121.050003</td>\n      <td>118.580002</td>\n      <td>159.309998</td>\n      <td>547.729980</td>\n      <td>52.290001</td>\n      <td>197.500000</td>\n    </tr>\n  </tbody>\n</table>\n<p>5 rows × 505 columns</p>\n</div>"
     },
     "metadata": {},
     "execution_count": 59
    }
   ],
   "source": [
    "# list comprehension to replace data in strings\n",
    "\n",
    "ma_count = 21\n",
    "\n",
    "data = pdr.get_data_yahoo(tickers, start=dt.datetime(2021,1,1), end=dt.date.today())['Close']\n",
    "data.tail()"
   ]
  },
  {
   "cell_type": "code",
   "execution_count": 60,
   "id": "022d761b",
   "metadata": {},
   "outputs": [
    {
     "output_type": "stream",
     "name": "stdout",
     "text": [
      "141\n"
     ]
    },
    {
     "output_type": "execute_result",
     "data": {
      "text/plain": [
       "    ticker                     name  count    ma_diff  ma_size ma_type\n",
       "195    NKE                     Nike     12  12.014842       21   daily\n",
       "119   GNRC         Generac Holdings     32  10.202129       21   daily\n",
       "160    KMX                   CarMax     14   8.703945       21   daily\n",
       "96    ENPH           Enphase Energy     35   8.081620       21   daily\n",
       "199    NRG               NRG Energy     26   7.906564       21   daily\n",
       "..     ...                      ...    ...        ...      ...     ...\n",
       "221    PKI              PerkinElmer     21   1.166190       21   daily\n",
       "18    AMGN                    Amgen     11   1.143987       21   daily\n",
       "15    ALXN  Alexion Pharmaceuticals     65   0.946782       21   daily\n",
       "38     BMY     Bristol-Myers Squibb     10   0.678161       21   daily\n",
       "68     CRM               Salesforce     35   0.289784       21   daily\n",
       "\n",
       "[141 rows x 6 columns]"
      ],
      "text/html": "<div>\n<style scoped>\n    .dataframe tbody tr th:only-of-type {\n        vertical-align: middle;\n    }\n\n    .dataframe tbody tr th {\n        vertical-align: top;\n    }\n\n    .dataframe thead th {\n        text-align: right;\n    }\n</style>\n<table border=\"1\" class=\"dataframe\">\n  <thead>\n    <tr style=\"text-align: right;\">\n      <th></th>\n      <th>ticker</th>\n      <th>name</th>\n      <th>count</th>\n      <th>ma_diff</th>\n      <th>ma_size</th>\n      <th>ma_type</th>\n    </tr>\n  </thead>\n  <tbody>\n    <tr>\n      <th>195</th>\n      <td>NKE</td>\n      <td>Nike</td>\n      <td>12</td>\n      <td>12.014842</td>\n      <td>21</td>\n      <td>daily</td>\n    </tr>\n    <tr>\n      <th>119</th>\n      <td>GNRC</td>\n      <td>Generac Holdings</td>\n      <td>32</td>\n      <td>10.202129</td>\n      <td>21</td>\n      <td>daily</td>\n    </tr>\n    <tr>\n      <th>160</th>\n      <td>KMX</td>\n      <td>CarMax</td>\n      <td>14</td>\n      <td>8.703945</td>\n      <td>21</td>\n      <td>daily</td>\n    </tr>\n    <tr>\n      <th>96</th>\n      <td>ENPH</td>\n      <td>Enphase Energy</td>\n      <td>35</td>\n      <td>8.081620</td>\n      <td>21</td>\n      <td>daily</td>\n    </tr>\n    <tr>\n      <th>199</th>\n      <td>NRG</td>\n      <td>NRG Energy</td>\n      <td>26</td>\n      <td>7.906564</td>\n      <td>21</td>\n      <td>daily</td>\n    </tr>\n    <tr>\n      <th>...</th>\n      <td>...</td>\n      <td>...</td>\n      <td>...</td>\n      <td>...</td>\n      <td>...</td>\n      <td>...</td>\n    </tr>\n    <tr>\n      <th>221</th>\n      <td>PKI</td>\n      <td>PerkinElmer</td>\n      <td>21</td>\n      <td>1.166190</td>\n      <td>21</td>\n      <td>daily</td>\n    </tr>\n    <tr>\n      <th>18</th>\n      <td>AMGN</td>\n      <td>Amgen</td>\n      <td>11</td>\n      <td>1.143987</td>\n      <td>21</td>\n      <td>daily</td>\n    </tr>\n    <tr>\n      <th>15</th>\n      <td>ALXN</td>\n      <td>Alexion Pharmaceuticals</td>\n      <td>65</td>\n      <td>0.946782</td>\n      <td>21</td>\n      <td>daily</td>\n    </tr>\n    <tr>\n      <th>38</th>\n      <td>BMY</td>\n      <td>Bristol-Myers Squibb</td>\n      <td>10</td>\n      <td>0.678161</td>\n      <td>21</td>\n      <td>daily</td>\n    </tr>\n    <tr>\n      <th>68</th>\n      <td>CRM</td>\n      <td>Salesforce</td>\n      <td>35</td>\n      <td>0.289784</td>\n      <td>21</td>\n      <td>daily</td>\n    </tr>\n  </tbody>\n</table>\n<p>141 rows × 6 columns</p>\n</div>"
     },
     "metadata": {},
     "execution_count": 60
    }
   ],
   "source": [
    "ma = data.rolling(window=ma_count).mean()\n",
    "ma_pers = data.div(ma).mul(100).sub(100)\n",
    "#ma_pers.iloc[[-1]]\n",
    "ma_pers_r=ma_pers.iloc[::-1]\n",
    "d = {}\n",
    "df_prep = []\n",
    "for col_name in ma_pers_r.columns:\n",
    "    d[col_name]=0\n",
    "    ma_last = None\n",
    "    for index, row in ma_pers_r.iterrows():\n",
    "        if row[col_name] > 0:\n",
    "            d[col_name] += 1\n",
    "            if ma_last == None:\n",
    "                ma_last=row[col_name]\n",
    "        else:\n",
    "            if d[col_name] != 0:\n",
    "               company = get_company_name(col_name)\n",
    "               df_prep.append([col_name, company, d[col_name], ma_last, ma_count, \"daily\"]) \n",
    "            break\n",
    "df = DataFrame(df_prep,columns=['ticker', 'name', 'count', 'ma_diff', 'ma_size', 'ma_type']).sort_values(by=['ma_diff', 'count'], ascending=False)\n",
    "print(df['count'][df['count'] >= 10].size)\n",
    "lead_comps_df = df[df['count'] >= 10]\n",
    "lead_comps = lead_comps_df['ticker'].values.tolist()\n",
    "lead_comps_df"
   ]
  },
  {
   "cell_type": "code",
   "execution_count": 61,
   "id": "bc5b375a",
   "metadata": {},
   "outputs": [
    {
     "output_type": "error",
     "ename": "KeyError",
     "evalue": "'Symbol'",
     "traceback": [
      "\u001b[0;31m---------------------------------------------------------------------------\u001b[0m",
      "\u001b[0;31mKeyError\u001b[0m                                  Traceback (most recent call last)",
      "\u001b[0;32m/usr/local/lib/python3.8/site-packages/pandas/core/indexes/base.py\u001b[0m in \u001b[0;36mget_loc\u001b[0;34m(self, key, method, tolerance)\u001b[0m\n\u001b[1;32m   2894\u001b[0m             \u001b[0;32mtry\u001b[0m\u001b[0;34m:\u001b[0m\u001b[0;34m\u001b[0m\u001b[0;34m\u001b[0m\u001b[0m\n\u001b[0;32m-> 2895\u001b[0;31m                 \u001b[0;32mreturn\u001b[0m \u001b[0mself\u001b[0m\u001b[0;34m.\u001b[0m\u001b[0m_engine\u001b[0m\u001b[0;34m.\u001b[0m\u001b[0mget_loc\u001b[0m\u001b[0;34m(\u001b[0m\u001b[0mcasted_key\u001b[0m\u001b[0;34m)\u001b[0m\u001b[0;34m\u001b[0m\u001b[0;34m\u001b[0m\u001b[0m\n\u001b[0m\u001b[1;32m   2896\u001b[0m             \u001b[0;32mexcept\u001b[0m \u001b[0mKeyError\u001b[0m \u001b[0;32mas\u001b[0m \u001b[0merr\u001b[0m\u001b[0;34m:\u001b[0m\u001b[0;34m\u001b[0m\u001b[0;34m\u001b[0m\u001b[0m\n",
      "\u001b[0;32mpandas/_libs/index.pyx\u001b[0m in \u001b[0;36mpandas._libs.index.IndexEngine.get_loc\u001b[0;34m()\u001b[0m\n",
      "\u001b[0;32mpandas/_libs/index.pyx\u001b[0m in \u001b[0;36mpandas._libs.index.IndexEngine.get_loc\u001b[0;34m()\u001b[0m\n",
      "\u001b[0;32mpandas/_libs/hashtable_class_helper.pxi\u001b[0m in \u001b[0;36mpandas._libs.hashtable.PyObjectHashTable.get_item\u001b[0;34m()\u001b[0m\n",
      "\u001b[0;32mpandas/_libs/hashtable_class_helper.pxi\u001b[0m in \u001b[0;36mpandas._libs.hashtable.PyObjectHashTable.get_item\u001b[0;34m()\u001b[0m\n",
      "\u001b[0;31mKeyError\u001b[0m: 'Symbol'",
      "\nThe above exception was the direct cause of the following exception:\n",
      "\u001b[0;31mKeyError\u001b[0m                                  Traceback (most recent call last)",
      "\u001b[0;32m<ipython-input-61-4a65d77ba316>\u001b[0m in \u001b[0;36m<module>\u001b[0;34m\u001b[0m\n\u001b[1;32m      1\u001b[0m \u001b[0;32mfor\u001b[0m \u001b[0mquote\u001b[0m \u001b[0;32min\u001b[0m \u001b[0mlead_comps\u001b[0m\u001b[0;34m:\u001b[0m\u001b[0;34m\u001b[0m\u001b[0;34m\u001b[0m\u001b[0m\n\u001b[0;32m----> 2\u001b[0;31m     \u001b[0mcompany\u001b[0m \u001b[0;34m=\u001b[0m \u001b[0mget_company_name\u001b[0m\u001b[0;34m(\u001b[0m\u001b[0mquote\u001b[0m\u001b[0;34m)\u001b[0m\u001b[0;34m\u001b[0m\u001b[0;34m\u001b[0m\u001b[0m\n\u001b[0m\u001b[1;32m      3\u001b[0m     \u001b[0mfig\u001b[0m\u001b[0;34m,\u001b[0m \u001b[0max\u001b[0m \u001b[0;34m=\u001b[0m \u001b[0mplt\u001b[0m\u001b[0;34m.\u001b[0m\u001b[0msubplots\u001b[0m\u001b[0;34m(\u001b[0m\u001b[0mfigsize\u001b[0m\u001b[0;34m=\u001b[0m\u001b[0;34m(\u001b[0m\u001b[0;36m20\u001b[0m\u001b[0;34m,\u001b[0m \u001b[0;36m10\u001b[0m\u001b[0;34m)\u001b[0m\u001b[0;34m)\u001b[0m\u001b[0;34m\u001b[0m\u001b[0;34m\u001b[0m\u001b[0m\n\u001b[1;32m      4\u001b[0m     \u001b[0mplt\u001b[0m\u001b[0;34m.\u001b[0m\u001b[0mplot\u001b[0m\u001b[0;34m(\u001b[0m\u001b[0mdata\u001b[0m\u001b[0;34m[\u001b[0m\u001b[0mquote\u001b[0m\u001b[0;34m]\u001b[0m\u001b[0;34m,\u001b[0m \u001b[0mlabel\u001b[0m\u001b[0;34m=\u001b[0m\u001b[0mquote\u001b[0m\u001b[0;34m)\u001b[0m\u001b[0;34m;\u001b[0m\u001b[0;34m\u001b[0m\u001b[0;34m\u001b[0m\u001b[0m\n\u001b[1;32m      5\u001b[0m     \u001b[0mplt\u001b[0m\u001b[0;34m.\u001b[0m\u001b[0mplot\u001b[0m\u001b[0;34m(\u001b[0m\u001b[0mma\u001b[0m\u001b[0;34m[\u001b[0m\u001b[0mquote\u001b[0m\u001b[0;34m]\u001b[0m\u001b[0;34m,\u001b[0m \u001b[0mlabel\u001b[0m \u001b[0;34m=\u001b[0m \u001b[0;34m'MA'\u001b[0m\u001b[0;34m)\u001b[0m\u001b[0;34m;\u001b[0m\u001b[0;34m\u001b[0m\u001b[0;34m\u001b[0m\u001b[0m\n",
      "\u001b[0;32m<ipython-input-58-ccfa4dbfab18>\u001b[0m in \u001b[0;36mget_company_name\u001b[0;34m(s)\u001b[0m\n\u001b[1;32m     13\u001b[0m \u001b[0;31m# convert symbol column to list\u001b[0m\u001b[0;34m\u001b[0m\u001b[0;34m\u001b[0m\u001b[0;34m\u001b[0m\u001b[0m\n\u001b[1;32m     14\u001b[0m \u001b[0;32mdef\u001b[0m \u001b[0mget_company_name\u001b[0m\u001b[0;34m(\u001b[0m\u001b[0ms\u001b[0m\u001b[0;34m)\u001b[0m\u001b[0;34m:\u001b[0m\u001b[0;34m\u001b[0m\u001b[0;34m\u001b[0m\u001b[0m\n\u001b[0;32m---> 15\u001b[0;31m     \u001b[0minfos\u001b[0m \u001b[0;34m=\u001b[0m \u001b[0mdf\u001b[0m\u001b[0;34m.\u001b[0m\u001b[0mloc\u001b[0m\u001b[0;34m[\u001b[0m\u001b[0mdf\u001b[0m\u001b[0;34m[\u001b[0m\u001b[0;34m'Symbol'\u001b[0m\u001b[0;34m]\u001b[0m \u001b[0;34m==\u001b[0m \u001b[0ms\u001b[0m\u001b[0;34m]\u001b[0m\u001b[0;34m\u001b[0m\u001b[0;34m\u001b[0m\u001b[0m\n\u001b[0m\u001b[1;32m     16\u001b[0m     \u001b[0mtickers\u001b[0m \u001b[0;34m=\u001b[0m \u001b[0mdf\u001b[0m\u001b[0;34m[\u001b[0m\u001b[0;34m'Symbol'\u001b[0m\u001b[0;34m]\u001b[0m\u001b[0;34m.\u001b[0m\u001b[0mvalues\u001b[0m\u001b[0;34m.\u001b[0m\u001b[0mtolist\u001b[0m\u001b[0;34m(\u001b[0m\u001b[0;34m)\u001b[0m\u001b[0;34m\u001b[0m\u001b[0;34m\u001b[0m\u001b[0m\n\u001b[1;32m     17\u001b[0m     \u001b[0;32mreturn\u001b[0m \u001b[0minfos\u001b[0m\u001b[0;34m.\u001b[0m\u001b[0miloc\u001b[0m\u001b[0;34m[\u001b[0m\u001b[0;36m0\u001b[0m\u001b[0;34m]\u001b[0m\u001b[0;34m[\u001b[0m\u001b[0;34m\"Security\"\u001b[0m\u001b[0;34m]\u001b[0m\u001b[0;34m\u001b[0m\u001b[0;34m\u001b[0m\u001b[0m\n",
      "\u001b[0;32m/usr/local/lib/python3.8/site-packages/pandas/core/frame.py\u001b[0m in \u001b[0;36m__getitem__\u001b[0;34m(self, key)\u001b[0m\n\u001b[1;32m   2904\u001b[0m             \u001b[0;32mif\u001b[0m \u001b[0mself\u001b[0m\u001b[0;34m.\u001b[0m\u001b[0mcolumns\u001b[0m\u001b[0;34m.\u001b[0m\u001b[0mnlevels\u001b[0m \u001b[0;34m>\u001b[0m \u001b[0;36m1\u001b[0m\u001b[0;34m:\u001b[0m\u001b[0;34m\u001b[0m\u001b[0;34m\u001b[0m\u001b[0m\n\u001b[1;32m   2905\u001b[0m                 \u001b[0;32mreturn\u001b[0m \u001b[0mself\u001b[0m\u001b[0;34m.\u001b[0m\u001b[0m_getitem_multilevel\u001b[0m\u001b[0;34m(\u001b[0m\u001b[0mkey\u001b[0m\u001b[0;34m)\u001b[0m\u001b[0;34m\u001b[0m\u001b[0;34m\u001b[0m\u001b[0m\n\u001b[0;32m-> 2906\u001b[0;31m             \u001b[0mindexer\u001b[0m \u001b[0;34m=\u001b[0m \u001b[0mself\u001b[0m\u001b[0;34m.\u001b[0m\u001b[0mcolumns\u001b[0m\u001b[0;34m.\u001b[0m\u001b[0mget_loc\u001b[0m\u001b[0;34m(\u001b[0m\u001b[0mkey\u001b[0m\u001b[0;34m)\u001b[0m\u001b[0;34m\u001b[0m\u001b[0;34m\u001b[0m\u001b[0m\n\u001b[0m\u001b[1;32m   2907\u001b[0m             \u001b[0;32mif\u001b[0m \u001b[0mis_integer\u001b[0m\u001b[0;34m(\u001b[0m\u001b[0mindexer\u001b[0m\u001b[0;34m)\u001b[0m\u001b[0;34m:\u001b[0m\u001b[0;34m\u001b[0m\u001b[0;34m\u001b[0m\u001b[0m\n\u001b[1;32m   2908\u001b[0m                 \u001b[0mindexer\u001b[0m \u001b[0;34m=\u001b[0m \u001b[0;34m[\u001b[0m\u001b[0mindexer\u001b[0m\u001b[0;34m]\u001b[0m\u001b[0;34m\u001b[0m\u001b[0;34m\u001b[0m\u001b[0m\n",
      "\u001b[0;32m/usr/local/lib/python3.8/site-packages/pandas/core/indexes/base.py\u001b[0m in \u001b[0;36mget_loc\u001b[0;34m(self, key, method, tolerance)\u001b[0m\n\u001b[1;32m   2895\u001b[0m                 \u001b[0;32mreturn\u001b[0m \u001b[0mself\u001b[0m\u001b[0;34m.\u001b[0m\u001b[0m_engine\u001b[0m\u001b[0;34m.\u001b[0m\u001b[0mget_loc\u001b[0m\u001b[0;34m(\u001b[0m\u001b[0mcasted_key\u001b[0m\u001b[0;34m)\u001b[0m\u001b[0;34m\u001b[0m\u001b[0;34m\u001b[0m\u001b[0m\n\u001b[1;32m   2896\u001b[0m             \u001b[0;32mexcept\u001b[0m \u001b[0mKeyError\u001b[0m \u001b[0;32mas\u001b[0m \u001b[0merr\u001b[0m\u001b[0;34m:\u001b[0m\u001b[0;34m\u001b[0m\u001b[0;34m\u001b[0m\u001b[0m\n\u001b[0;32m-> 2897\u001b[0;31m                 \u001b[0;32mraise\u001b[0m \u001b[0mKeyError\u001b[0m\u001b[0;34m(\u001b[0m\u001b[0mkey\u001b[0m\u001b[0;34m)\u001b[0m \u001b[0;32mfrom\u001b[0m \u001b[0merr\u001b[0m\u001b[0;34m\u001b[0m\u001b[0;34m\u001b[0m\u001b[0m\n\u001b[0m\u001b[1;32m   2898\u001b[0m \u001b[0;34m\u001b[0m\u001b[0m\n\u001b[1;32m   2899\u001b[0m         \u001b[0;32mif\u001b[0m \u001b[0mtolerance\u001b[0m \u001b[0;32mis\u001b[0m \u001b[0;32mnot\u001b[0m \u001b[0;32mNone\u001b[0m\u001b[0;34m:\u001b[0m\u001b[0;34m\u001b[0m\u001b[0;34m\u001b[0m\u001b[0m\n",
      "\u001b[0;31mKeyError\u001b[0m: 'Symbol'"
     ]
    }
   ],
   "source": [
    "for quote in lead_comps:\n",
    "    fig, ax = plt.subplots(figsize=(20, 10))\n",
    "    plt.plot(data[quote], label=quote);\n",
    "    plt.plot(ma[quote], label = 'MA');\n",
    "    plt.legend(loc=2);"
   ]
  },
  {
   "cell_type": "code",
   "execution_count": null,
   "metadata": {},
   "outputs": [],
   "source": []
  }
 ],
 "metadata": {
  "kernelspec": {
   "name": "python3",
   "display_name": "Python 3.8.9 64-bit ('python@3.8')"
  },
  "language_info": {
   "codemirror_mode": {
    "name": "ipython",
    "version": 3
   },
   "file_extension": ".py",
   "mimetype": "text/x-python",
   "name": "python",
   "nbconvert_exporter": "python",
   "pygments_lexer": "ipython3",
   "version": "3.8.9"
  },
  "interpreter": {
   "hash": "1ee38ef4a5a9feb55287fd749643f13d043cb0a7addaab2a9c224cbe137c0062"
  }
 },
 "nbformat": 4,
 "nbformat_minor": 5
}