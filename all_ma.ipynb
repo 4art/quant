{
 "cells": [
  {
   "cell_type": "markdown",
   "id": "308e57eb",
   "metadata": {},
   "source": [
    "# Search stocks"
   ]
  },
  {
   "cell_type": "code",
   "execution_count": null,
   "id": "5811606c",
   "metadata": {},
   "outputs": [],
   "source": [
    "import sys\n",
    "!{sys.executable} -m pip install pandas_datareader yfinance matplotlib"
   ]
  },
  {
   "cell_type": "code",
   "execution_count": null,
   "id": "a43a3c2e",
   "metadata": {},
   "outputs": [],
   "source": [
    "import pandas as pd\n",
    "from pandas import DataFrame\n",
    "import json\n",
    "from pandas_datareader import data as pdr\n",
    "import yfinance as yf\n",
    "import numpy as np\n",
    "import matplotlib.pyplot as plt\n",
    "import datetime as dt\n",
    "\n"
   ]
  },
  {
   "cell_type": "code",
   "execution_count": null,
   "id": "bb0f6b84",
   "metadata": {},
   "outputs": [],
   "source": [
    "yf.pdr_override()\n",
    "#  https://datahub.io/core/nasdaq-listings\n",
    "df = pd.read_csv('https://pkgstore.datahub.io/core/nasdaq-listings/nasdaq-listed_csv/data/7665719fb51081ba0bd834fde71ce822/nasdaq-listed_csv.csv')\n",
    "# convert symbol column to list\n",
    "\n",
    "tickers = df['Symbol'].values.tolist()\n",
    "#t = [x.replace('.', '-') for x in tickers] \n",
    "#print(tickers)\n",
    "tickers\n",
    "#yf.download(\"SPY AAPL\", start=\"2017-01-01\", end=\"2017-04-30\")"
   ]
  },
  {
   "cell_type": "code",
   "execution_count": null,
   "id": "f8b84dc0",
   "metadata": {},
   "outputs": [
    {
     "name": "stdout",
     "output_type": "stream",
     "text": [
      "[******************************138%********************************]  4083 of 2967 completed"
     ]
    }
   ],
   "source": [
    "ma_count = 21\n",
    "\n",
    "print(dt.datetime(2021,1,1))\n",
    "data = pdr.get_data_yahoo(tickers, start=dt.datetime(2021,1,1), end=dt.date.today())['Close']\n",
    "data.tail()\n"
   ]
  },
  {
   "cell_type": "code",
   "execution_count": null,
   "id": "3d4a5913",
   "metadata": {
    "tags": []
   },
   "outputs": [],
   "source": [
    "ma = data.rolling(window=ma_count).mean()\n",
    "ma_pers = data.div(ma).mul(100).sub(100)\n",
    "#ma_pers.iloc[[-1]]\n",
    "ma_pers_r=ma_pers.iloc[::-1]\n",
    "d = {}\n",
    "df_prep = []\n",
    "for col_name in ma_pers_r.columns:\n",
    "    d[col_name]=0\n",
    "    ma_last = None\n",
    "    for index, row in ma_pers_r.iterrows():\n",
    "        if row[col_name] > 0:\n",
    "            d[col_name] += 1\n",
    "            if ma_last == None:\n",
    "                ma_last=row[col_name]\n",
    "        else:\n",
    "            if d[col_name] != 0:\n",
    "               df_prep.append([col_name, d[col_name], ma_last, ma_count, \"daily\"]) \n",
    "            break\n",
    "df = DataFrame(df_prep,columns=['name','count', 'ma_diff', 'ma_size', 'ma_type']).sort_values(by=['ma_diff', 'count'], ascending=False)\n",
    "print(df['count'][df['count'] >= 10].size)\n",
    "lead_comps_df = df[df['count'] >= 10]\n",
    "lead_comps = lead_comps_df['name'].values.tolist()\n",
    "lead_comps_df"
   ]
  },
  {
   "cell_type": "code",
   "execution_count": null,
   "id": "3b97c474",
   "metadata": {},
   "outputs": [],
   "source": [
    "for quote in lead_comps:\n",
    "    fig, ax = plt.subplots(figsize=(20, 10))\n",
    "    plt.plot(data[quote], label=quote); \n",
    "    plt.plot(ma[quote], label = 'MA');\n",
    "    plt.legend(loc=2);"
   ]
  },
  {
   "cell_type": "code",
   "execution_count": null,
   "id": "0ce8fadf",
   "metadata": {},
   "outputs": [],
   "source": []
  }
 ],
 "metadata": {
  "kernelspec": {
   "display_name": "Python 3.9.13 64-bit",
   "language": "python",
   "name": "python3"
  },
  "language_info": {
   "codemirror_mode": {
    "name": "ipython",
    "version": 3
   },
   "file_extension": ".py",
   "mimetype": "text/x-python",
   "name": "python",
   "nbconvert_exporter": "python",
   "pygments_lexer": "ipython3",
   "version": "3.9.13"
  },
  "metadata": {
   "interpreter": {
    "hash": "aee8b7b246df8f9039afb4144a1f6fd8d2ca17a180786b69acc140d282b71a49"
   }
  },
  "vscode": {
   "interpreter": {
    "hash": "b0fa6594d8f4cbf19f97940f81e996739fb7646882a419484c72d19e05852a7e"
   }
  }
 },
 "nbformat": 4,
 "nbformat_minor": 5
}
