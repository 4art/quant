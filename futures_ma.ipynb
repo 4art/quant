{
 "cells": [
  {
   "cell_type": "markdown",
   "id": "36e08b72",
   "metadata": {},
   "source": [
    "# Search stocks"
   ]
  },
  {
   "cell_type": "code",
   "execution_count": 5,
   "id": "478d274a",
   "metadata": {},
   "outputs": [],
   "source": [
    "import pandas as pd\n",
    "from pandas import DataFrame\n",
    "import json\n",
    "from pandas_datareader import data as pdr\n",
    "import yfinance as yf\n",
    "import numpy as np\n",
    "import matplotlib.pyplot as plt\n",
    "import datetime as dt\n"
   ]
  },
  {
   "cell_type": "code",
   "execution_count": 10,
   "id": "caa7f5be",
   "metadata": {},
   "outputs": [
    {
     "data": {
      "text/plain": [
       "['ES',\n",
       " 'MES',\n",
       " 'EME',\n",
       " 'YM',\n",
       " 'MYM',\n",
       " 'EMD',\n",
       " 'SMC',\n",
       " 'NQ',\n",
       " 'MNQ',\n",
       " 'QCN',\n",
       " 'BIO',\n",
       " 'EMF',\n",
       " 'FXN',\n",
       " 'J7',\n",
       " 'E7',\n",
       " 'XAY',\n",
       " 'XAP',\n",
       " 'XAF',\n",
       " 'XAV',\n",
       " 'XAI',\n",
       " 'XAB',\n",
       " 'XAK',\n",
       " 'XAU',\n",
       " 'YC',\n",
       " 'YK',\n",
       " 'YW',\n",
       " 'QM',\n",
       " 'QG',\n",
       " 'QH',\n",
       " 'QU',\n",
       " 'QO',\n",
       " '6Q',\n",
       " 'QC',\n",
       " 'RF',\n",
       " 'TF',\n",
       " 'M2K']"
      ]
     },
     "execution_count": 10,
     "metadata": {},
     "output_type": "execute_result"
    }
   ],
   "source": [
    "df = pd.read_html('https://en.wikipedia.org/wiki/E-mini')[0]\n",
    "tickers = df['Ticker symbol'].values.tolist()\n",
    "tickers"
   ]
  },
  {
   "cell_type": "code",
   "execution_count": null,
   "id": "18e7eaf6",
   "metadata": {},
   "outputs": [],
   "source": [
    "#f = ES,NQ,YM,TF,6A,6B,6C,6E,6J,6N,DX,6S,CL,QM,NG,HO,GC,YG,SI,YI,HG,PL,6A,ACD,AJY,ANE,6L,6B,PJY,PSF,MP,6C,CJY,6E,EC,E7,EAD,RP,RY,RF,6J,J7,KRW,6M,MP,6N,NOK,6R,6Z,SEK,6S,SJY,DX,CL,BZ,EH,HO,NN,NG,RB,UX,CB,CC,CJ,KC,KT,TT,CT,DY,LB,LBS,DC,GDK,GNF,OJ,YO,SB,SF\n",
    "\n",
    "\n",
    "futures = [\n",
    "\"ES\",\n",
    "\"YM\",\n",
    "\"NQ\",\n",
    "\"RTY\",\n",
    "\"ZB\",\n",
    "\"ZN\",\n",
    "\"ZF\",\n",
    "\"ZT\",\n",
    "\"GC\",\n",
    "\"MGC\",\n",
    "\"SI\",\n",
    "\"SIL\",\n",
    "\"PL\",\n",
    "\"HG\",\n",
    "\"PA\",\n",
    "\"CL\",\n",
    "\"HO\",\n",
    "\"NG\",\n",
    "\"RB\",\n",
    "\"BZ\",\n",
    "\"B0\",\n",
    "\"ZC\",\n",
    "\"ZO\",\n",
    "\"KE\",\n",
    "\"ZR\",\n",
    "\"ZM\",\n",
    "\"ZL\",\n",
    "\"ZS\",\n",
    "\"GF\",\n",
    "\"HE\",\n",
    "\"LE\",\n",
    "\"CC\",\n",
    "\"KC\",\n",
    "\"CT\",\n",
    "\"LBS\",\n",
    "\"OJ\",\n",
    "\"SB\",\n",
    "\"VX\"\n",
    "]\n",
    "futures = set(map(lambda x: x + '=F', futures + tickers))\n",
    "\n",
    "ma_count = 21\n",
    "\n",
    "futures\n"
   ]
  },
  {
   "cell_type": "code",
   "execution_count": null,
   "metadata": {},
   "outputs": [],
   "source": [
    "data = pdr.get_data_yahoo(futures, start=datetime(2021,1,1), end=dt.date.today())['Close']\n",
    "data.tail()\n"
   ]
  },
  {
   "cell_type": "code",
   "execution_count": null,
   "id": "0af257e2",
   "metadata": {
    "tags": []
   },
   "outputs": [],
   "source": [
    "ma = data.rolling(window=ma_count).mean()\n",
    "ma_pers = data.div(ma).mul(100).sub(100)\n",
    "#ma_pers.iloc[[-1]]\n",
    "ma_pers_r=ma_pers.iloc[::-1]\n",
    "d = {}\n",
    "df_prep = []\n",
    "for col_name in ma_pers_r.columns:\n",
    "    d[col_name]=0\n",
    "    ma_last = None\n",
    "    for index, row in ma_pers_r.iterrows():\n",
    "        if row[col_name] > 0:\n",
    "            d[col_name] += 1\n",
    "            if ma_last == None:\n",
    "                ma_last=row[col_name]\n",
    "        else:\n",
    "            if d[col_name] != 0:\n",
    "               df_prep.append([col_name, d[col_name], ma_last, ma_count, \"daily\"]) \n",
    "            break\n",
    "df = DataFrame(df_prep,columns=['name','count', 'ma_diff', 'ma_size', 'ma_type']).sort_values(by=['ma_diff', 'count'], ascending=False)\n",
    "print(df['count'][df['count'] >= 2].size)\n",
    "lead_comps_df = df[df['count'] >= 2]\n",
    "lead_comps = lead_comps_df['name'].values.tolist()\n",
    "lead_comps_df"
   ]
  },
  {
   "cell_type": "code",
   "execution_count": null,
   "id": "b7bb14b4",
   "metadata": {},
   "outputs": [],
   "source": [
    "for quote in lead_comps:\n",
    "    fig, ax = plt.subplots(figsize=(20, 10))\n",
    "    plt.plot(data[quote], label=quote);\n",
    "    plt.plot(ma[quote], label = 'MA');\n",
    "    plt.legend(loc=2);"
   ]
  }
 ],
 "metadata": {
  "kernelspec": {
   "name": "python3",
   "display_name": "Python 3.8.9 64-bit ('python@3.8')"
  },
  "language_info": {
   "codemirror_mode": {
    "name": "ipython",
    "version": 3
   },
   "file_extension": ".py",
   "mimetype": "text/x-python",
   "name": "python",
   "nbconvert_exporter": "python",
   "pygments_lexer": "ipython3",
   "version": "3.8.9"
  },
  "metadata": {
   "interpreter": {
    "hash": "aee8b7b246df8f9039afb4144a1f6fd8d2ca17a180786b69acc140d282b71a49"
   }
  },
  "interpreter": {
   "hash": "1ee38ef4a5a9feb55287fd749643f13d043cb0a7addaab2a9c224cbe137c0062"
  }
 },
 "nbformat": 4,
 "nbformat_minor": 5
}